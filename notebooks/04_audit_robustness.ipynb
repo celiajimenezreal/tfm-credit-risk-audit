{
 "cells": [
  {
   "cell_type": "markdown",
   "metadata": {},
   "source": [
    "# Adversarial Robustness Audit\n",
    "\n",
    "In this notebook, we will run our adversarial robustness evaluation using the `audit_tool/robustness.py` module.  We’ll load the data and trained models, configure our attack parameters, run the attacks, visualize the results, analyze the features most frequently perturbed, and finally generate a report of the findings.\n"
   ]
  },
  {
   "cell_type": "code",
   "execution_count": null,
   "metadata": {
    "vscode": {
     "languageId": "plaintext"
    }
   },
   "outputs": [],
   "source": [
    "# Credit Risk Audit Tool - Adversarial Robustness Phase\n",
    "# Dataset: Prosper Loan Data\n",
    "\n",
    "import sys\n",
    "import os\n",
    "# Add the project root to the Python path so we can import audit_tool\n",
    "sys.path.append(os.path.abspath('..'))\n",
    "\n",
    "import pandas as pd\n",
    "import numpy as np\n",
    "import joblib\n",
    "\n",
    "# Import our robustness functions\n",
    "from audit_tool.robustness import robustness as rb"
   ]
  },
  {
   "cell_type": "markdown",
   "metadata": {},
   "source": [
    "## 1. Load Data and Models\n",
    "\n",
    "We first load our pre-processed test set and the three serialized models (Logistic Regression, Random Forest, XGBoost) that we will audit.\n"
   ]
  },
  {
   "cell_type": "markdown",
   "metadata": {},
   "source": [
    "# Paths to processed data\n",
    "X_test = pd.read_csv('../data/processed/prosperloan/X_test.csv').values\n",
    "y_test = pd.read_csv('../data/processed/prosperloan/y_test.csv')['target'].values\n",
    "\n",
    "# Keep feature names for vulnerability analysis\n",
    "feature_names = pd.read_csv('../data/processed/prosperloan/X_test.csv').columns.tolist()\n",
    "\n",
    "# Load trained models\n",
    "models = {\n",
    "    \"logreg\": joblib.load('../models/prosperloan/logistic_regression.pkl'),\n",
    "    \"rf\":     joblib.load('../models/prosperloan/random_forest.pkl'),\n",
    "    \"xgb\":    joblib.load('../models/prosperloan/xgboost.pkl')\n",
    "}\n",
    "\n",
    "print(\"Loaded test data and models:\")\n",
    "print(\" - X_test shape:\", X_test.shape)\n",
    "print(\" - y_test shape:\", y_test.shape)\n",
    "print(\" - Models:\", list(models.keys()))\n"
   ]
  },
  {
   "cell_type": "markdown",
   "metadata": {},
   "source": [
    "## 2. Configure Attacks and Epsilon Sweep\n",
    "\n",
    "Define which attack methods to run and the list of ε budgets for white-box attacks.  \n",
    "We’ll also set where to save our outputs.\n"
   ]
  },
  {
   "cell_type": "code",
   "execution_count": null,
   "metadata": {
    "vscode": {
     "languageId": "plaintext"
    }
   },
   "outputs": [],
   "source": [
    "# Supported attacks in robustness.py\n",
    "attacks  = [\"fgsm\", \"pgd\", \"hopskipjump\", \"boundary\"]\n",
    "\n",
    "# Epsilon values for FGSM and PGD\n",
    "epsilons = [0.01, 0.05, 0.1, 0.2]\n",
    "\n",
    "# Output directory for CSVs, plots, and report\n",
    "output_dir = \"../outputs/reports/robustness\""
   ]
  },
  {
   "cell_type": "markdown",
   "metadata": {},
   "source": [
    "## 3. Run Robustness Evaluation\n",
    "\n",
    "Generate adversarial examples, compute success rates and average distortions,  \n",
    "and collect the raw adversarial data for feature-vulnerability analysis.\n"
   ]
  },
  {
   "cell_type": "code",
   "execution_count": null,
   "metadata": {
    "vscode": {
     "languageId": "plaintext"
    }
   },
   "outputs": [],
   "source": [
    "df_results, adv_examples = rb.run_robustness(\n",
    "    models=models,\n",
    "    X=X_test,\n",
    "    y=y_test,\n",
    "    attacks=attacks,\n",
    "    epsilons=epsilons,\n",
    "    output_dir=output_dir\n",
    ")\n",
    "\n",
    "# Display the first rows of the results DataFrame\n",
    "df_results.head()\n"
   ]
  },
  {
   "cell_type": "markdown",
   "metadata": {},
   "source": [
    "## 4. Plot Robustness Curves\n",
    "\n",
    "Visualize how attack success rate changes with ε for each model and attack.  \n",
    "The plots will also be saved into `outputs/reports/robustness/`.\n"
   ]
  },
  {
   "cell_type": "code",
   "execution_count": null,
   "metadata": {
    "vscode": {
     "languageId": "plaintext"
    }
   },
   "outputs": [],
   "source": [
    "rb.plot_robustness(df_results, output_dir=output_dir)"
   ]
  },
  {
   "cell_type": "markdown",
   "metadata": {},
   "source": [
    "## 5. Analyze Feature Vulnerabilities\n",
    "\n",
    "Identify the top 5 input features most frequently modified in successful adversarial examples  \n",
    "for each (model, attack, ε) scenario.\n"
   ]
  },
  {
   "cell_type": "code",
   "execution_count": null,
   "metadata": {
    "vscode": {
     "languageId": "plaintext"
    }
   },
   "outputs": [],
   "source": [
    "vuln = rb.analyze_feature_vulnerability(\n",
    "    adv_examples=adv_examples,\n",
    "    feature_names=feature_names,\n",
    "    top_k=5\n",
    ")\n",
    "\n",
    "# Display the top-5 features for one example scenario\n",
    "first_key = next(iter(vuln))\n",
    "print(f\"Top 5 features for {first_key}:\")\n",
    "for feat, count in vuln[first_key]:\n",
    "    print(f\" - {feat}: {count} modifications\")\n"
   ]
  },
  {
   "cell_type": "markdown",
   "metadata": {},
   "source": [
    "## 6. Generate Markdown Report\n",
    "\n",
    "Produce a comprehensive Markdown report (`robustness_report.md`)  \n",
    "that includes the summary table, vulnerability rankings, and recommendations.\n"
   ]
  },
  {
   "cell_type": "code",
   "execution_count": null,
   "metadata": {
    "vscode": {
     "languageId": "plaintext"
    }
   },
   "outputs": [],
   "source": [
    "report_path = os.path.join(output_dir, \"informe_robustez.md\")\n",
    "rb.generate_markdown_report(\n",
    "    df=df_results,\n",
    "    vuln=vuln,\n",
    "    output_path=report_path\n",
    ")\n",
    "print(f\"Report written to: {report_path}\")\n"
   ]
  },
  {
   "cell_type": "markdown",
   "metadata": {},
   "source": []
  }
 ],
 "metadata": {
  "language_info": {
   "name": "python"
  }
 },
 "nbformat": 4,
 "nbformat_minor": 2
}
