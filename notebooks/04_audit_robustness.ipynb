{
 "cells": [
  {
   "cell_type": "markdown",
   "metadata": {},
   "source": [
    "# Adversarial Robustness Audit\n",
    "\n",
    "This notebook demonstrates the adversarial robustness audit pipeline using the `audit_tool.robustness` module.  \n",
    "All heavy lifting (attacks, evaluation, plotting, report generation) is implemented in that module.  \n",
    "Below we load data and models, configure attack parameters, run the audit, and generate an HTML report."
   ]
  },
  {
   "cell_type": "code",
   "execution_count": 1,
   "metadata": {},
   "outputs": [
    {
     "name": "stderr",
     "output_type": "stream",
     "text": [
      "/home/celia/Desktop/tfm-credit-risk-audit/venv/lib/python3.10/site-packages/art/estimators/certification/__init__.py:30: UserWarning: PyTorch not found. Not importing DeepZ or Interval Bound Propagation functionality\n",
      "  warnings.warn(\"PyTorch not found. Not importing DeepZ or Interval Bound Propagation functionality\")\n"
     ]
    }
   ],
   "source": [
    "# Credit Risk Audit Tool - Adversarial Robustness Phase\n",
    "# Dataset: Prosper Loan Data\n",
    "\n",
    "import sys\n",
    "import os\n",
    "# Add the project root to the Python path so we can import audit_tool\n",
    "sys.path.append(os.path.abspath('..'))\n",
    "\n",
    "import pandas as pd\n",
    "import numpy as np\n",
    "import joblib\n",
    "\n",
    "# Import our robustness functions\n",
    "from audit_tool import robustness as rb"
   ]
  },
  {
   "cell_type": "markdown",
   "metadata": {},
   "source": [
    "## 1. Load Data and Models\n",
    "\n",
    "Define paths for the pre-processed test dataset and the serialized model files.\n"
   ]
  },
  {
   "cell_type": "code",
   "execution_count": null,
   "metadata": {},
   "outputs": [],
   "source": [
    "X_path = '../data/processed/prosperloan/X_test_lasso.csv'\n",
    "y_path = '../data/processed/prosperloan/y_test_lasso.csv'\n",
    "model_paths = {\n",
    "    'logreg': '../models/prosperloan/logisticregression.pkl',\n",
    "    'rf':     '../models/prosperloan/randomforest.pkl',\n",
    "    'xgb':    '../models/prosperloan/xgboost.pkl'\n",
    "}\n",
    "\n",
    "X_test, y_test, feature_names = rb.load_data(X_path, y_path)\n",
    "models = rb.load_models(model_paths)\n",
    "art_classifiers = rb.wrap_art_classifiers(models)\n",
    "\n",
    "print(f\"Loaded X_test shape: {X_test.shape}, y_test shape: {y_test.shape}\")\n",
    "print(f\"Models available for audit: {list(models.keys())}\")\n"
   ]
  },
  {
   "cell_type": "markdown",
   "metadata": {},
   "source": [
    "## 2. Configure Attack Parameters and Report Settings\n",
    "\n",
    "- Choose a list of FGSM epsilon values to test  \n",
    "- Specify output directories and report format\n"
   ]
  },
  {
   "cell_type": "code",
   "execution_count": null,
   "metadata": {},
   "outputs": [],
   "source": [
    "epsilons    = [0.0, 0.1, 0.2]             # FGSM attack strengths\n",
    "graphics_dir = 'figures'                  # directory to save plots\n",
    "report_file  = 'robustness_report.html'   # output report filename\n",
    "report_fmt   = 'html'                     # choose 'html' or 'md'\n",
    "\n",
    "# Ensure output directory exists\n",
    "os.makedirs(graphics_dir, exist_ok=True)"
   ]
  },
  {
   "cell_type": "markdown",
   "metadata": {},
   "source": [
    "## 3. Run Full Audit and Generate Report\n",
    "\n",
    "This will:\n",
    "- Generate adversarial examples at each epsilon  \n",
    "- Evaluate each model (accuracy & F1) on adversarial inputs  \n",
    "- Analyze top-perturbed features  \n",
    "- Plot and save graphics  \n",
    "- Compile a complete HTML report with embedded images and tables\n"
   ]
  },
  {
   "cell_type": "code",
   "execution_count": null,
   "metadata": {},
   "outputs": [],
   "source": [
    "rb.generate_report(\n",
    "    X_orig=X_test,\n",
    "    y_true=y_test,\n",
    "    art_clfs=art_classifiers,\n",
    "    epsilons=epsilons,\n",
    "    feature_names=feature_names,\n",
    "    figures_dir=graphics_dir,\n",
    "    report_path=report_file,\n",
    "    fmt=report_fmt\n",
    ")\n"
   ]
  },
  {
   "cell_type": "markdown",
   "metadata": {},
   "source": [
    "## 4. View Report\n",
    "\n",
    "After execution, open the generated report (`robustness_report.html`) in your browser to explore:\n",
    "- Executive summary  \n",
    "- Detailed performance plots per epsilon  \n",
    "- Top feature perturbation charts and tables  \n",
    "- Recommendations for improving model robustness\n"
   ]
  },
  {
   "cell_type": "markdown",
   "metadata": {},
   "source": []
  }
 ],
 "metadata": {
  "kernelspec": {
   "display_name": "venv",
   "language": "python",
   "name": "python3"
  },
  "language_info": {
   "codemirror_mode": {
    "name": "ipython",
    "version": 3
   },
   "file_extension": ".py",
   "mimetype": "text/x-python",
   "name": "python",
   "nbconvert_exporter": "python",
   "pygments_lexer": "ipython3",
   "version": "3.10.12"
  }
 },
 "nbformat": 4,
 "nbformat_minor": 2
}
