{
 "cells": [
  {
   "cell_type": "markdown",
   "metadata": {},
   "source": [
    "# Modeling Phase\n",
    "\n",
    "In this notebook, we will develop baseline models to predict credit default.\n",
    "These models will later be audited for explainability, robustness, and compliance.\n",
    "\n",
    "## Objectives:\n",
    "- Train baseline models: Logistic Regression, Random Forest, XGBoost.\n",
    "- Evaluate performance using AUC-ROC, F1-Score and other metrics.\n",
    "- Save models for future auditing.\n"
   ]
  },
  {
   "cell_type": "code",
   "execution_count": 1,
   "metadata": {},
   "outputs": [
    {
     "name": "stdout",
     "output_type": "stream",
     "text": [
      "Data loaded successfully.\n"
     ]
    }
   ],
   "source": [
    "# Credit Risk Audit Tool - Modeling Phase\n",
    "# Dataset: Prosper Loan Data\n",
    "\n",
    "import sys\n",
    "import os\n",
    "\n",
    "# Add the project root to the Python path\n",
    "sys.path.append(os.path.abspath('..'))\n",
    "\n",
    "import pandas as pd\n",
    "import numpy as np\n",
    "from audit_tool import modeling as mdl\n",
    "from sklearn.model_selection import train_test_split\n",
    "from sklearn.metrics import classification_report, roc_auc_score\n",
    "\n",
    "pd.set_option('display.max_columns', None)\n",
    "\n",
    "X_train = pd.read_csv('../data/processed/prosperloan/X_train.csv')\n",
    "X_test = pd.read_csv('../data/processed/prosperloan/X_test.csv')\n",
    "y_train = pd.read_csv('../data/processed/prosperloan/y_train.csv').squeeze()\n",
    "y_test = pd.read_csv('../data/processed/prosperloan/y_test.csv').squeeze()\n",
    "\n",
    "print(\"Data loaded successfully.\")\n"
   ]
  },
  {
   "cell_type": "markdown",
   "metadata": {},
   "source": [
    "## Logistic Regression\n",
    "The Logistic Regression model serves as a baseline. \n",
    "Its interpretability will also be useful in the explainability phase.\n"
   ]
  },
  {
   "cell_type": "code",
   "execution_count": 2,
   "metadata": {},
   "outputs": [
    {
     "name": "stdout",
     "output_type": "stream",
     "text": [
      "Logistic Regression Report:\n",
      "               precision    recall  f1-score   support\n",
      "\n",
      "           0       0.89      0.97      0.93     19293\n",
      "           1       0.65      0.31      0.42      3355\n",
      "\n",
      "    accuracy                           0.87     22648\n",
      "   macro avg       0.77      0.64      0.68     22648\n",
      "weighted avg       0.86      0.87      0.85     22648\n",
      "\n",
      "AUC: 0.8753243089564852\n"
     ]
    }
   ],
   "source": [
    "# Train Logistic Regression\n",
    "log_model = mdl.train_logistic_regression(X_train, y_train)\n",
    "\n",
    "# Evaluate\n",
    "report_lr, auc_lr = mdl.evaluate_model(log_model, X_test, y_test)\n",
    "print(\"Logistic Regression Report:\\n\", report_lr)\n",
    "print(\"AUC:\", auc_lr)\n",
    "\n",
    "# Save model\n",
    "mdl.save_model(log_model, '../models/prosperloan/logistic_regression.pkl')\n"
   ]
  },
  {
   "cell_type": "markdown",
   "metadata": {},
   "source": [
    "## Random Forest\n",
    "The Random Forest model allows us to capture non-linear relationships\n",
    "and will provide feature importance for explainability.\n"
   ]
  },
  {
   "cell_type": "code",
   "execution_count": 3,
   "metadata": {},
   "outputs": [
    {
     "name": "stdout",
     "output_type": "stream",
     "text": [
      "Random Forest Report:\n",
      "               precision    recall  f1-score   support\n",
      "\n",
      "           0       0.89      0.97      0.93     19293\n",
      "           1       0.67      0.30      0.42      3355\n",
      "\n",
      "    accuracy                           0.87     22648\n",
      "   macro avg       0.78      0.64      0.67     22648\n",
      "weighted avg       0.86      0.87      0.85     22648\n",
      "\n",
      "AUC: 0.8717406597436983\n"
     ]
    }
   ],
   "source": [
    "# Train Random Forest\n",
    "rf_model = mdl.train_random_forest(X_train, y_train)\n",
    "\n",
    "# Evaluate\n",
    "report_rf, auc_rf = mdl.evaluate_model(rf_model, X_test, y_test)\n",
    "print(\"Random Forest Report:\\n\", report_rf)\n",
    "print(\"AUC:\", auc_rf)\n",
    "\n",
    "# Save model\n",
    "mdl.save_model(rf_model, '../models/prosperloan/random_forest.pkl')\n"
   ]
  },
  {
   "cell_type": "markdown",
   "metadata": {},
   "source": [
    "# XGBoost\n",
    "XGBoost is often used in financial prediction problems due to its\n",
    "high performance and flexibility.\n"
   ]
  },
  {
   "cell_type": "code",
   "execution_count": 4,
   "metadata": {},
   "outputs": [
    {
     "name": "stdout",
     "output_type": "stream",
     "text": [
      "XGBoost Report:\n",
      "               precision    recall  f1-score   support\n",
      "\n",
      "           0       0.89      0.96      0.93     19293\n",
      "           1       0.63      0.34      0.44      3355\n",
      "\n",
      "    accuracy                           0.87     22648\n",
      "   macro avg       0.76      0.65      0.69     22648\n",
      "weighted avg       0.86      0.87      0.86     22648\n",
      "\n",
      "AUC: 0.8766865398235989\n"
     ]
    }
   ],
   "source": [
    "# Train XGBoost\n",
    "xgb_model = mdl.train_xgboost(X_train, y_train)\n",
    "\n",
    "# Evaluate\n",
    "report_xgb, auc_xgb = mdl.evaluate_model(xgb_model, X_test, y_test)\n",
    "print(\"XGBoost Report:\\n\", report_xgb)\n",
    "print(\"AUC:\", auc_xgb)\n",
    "\n",
    "# Save model\n",
    "mdl.save_model(xgb_model, '../models/prosperloan/xgboost.pkl')\n"
   ]
  },
  {
   "cell_type": "markdown",
   "metadata": {},
   "source": [
    "All models have been trained and evaluated.\n",
    "Saved models will be used in the upcoming explainability and robustness audit phases.\n"
   ]
  }
 ],
 "metadata": {
  "kernelspec": {
   "display_name": "venv",
   "language": "python",
   "name": "python3"
  },
  "language_info": {
   "codemirror_mode": {
    "name": "ipython",
    "version": 3
   },
   "file_extension": ".py",
   "mimetype": "text/x-python",
   "name": "python",
   "nbconvert_exporter": "python",
   "pygments_lexer": "ipython3",
   "version": "3.10.12"
  }
 },
 "nbformat": 4,
 "nbformat_minor": 2
}
