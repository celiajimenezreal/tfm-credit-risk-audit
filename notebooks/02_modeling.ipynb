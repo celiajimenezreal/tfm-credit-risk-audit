{
 "cells": [
  {
   "cell_type": "markdown",
   "metadata": {},
   "source": [
    "# Modeling Phase\n",
    "\n",
    "In this notebook, we will develop baseline models to predict credit default.\n",
    "These models will later be audited for explainability, robustness, and compliance.\n",
    "\n",
    "## Objectives:\n",
    "- Train baseline models: Logistic Regression, Random Forest, XGBoost.\n",
    "- Evaluate performance using AUC-ROC, F1-Score and other metrics.\n",
    "- Save models for future auditing.\n"
   ]
  },
  {
   "cell_type": "code",
   "execution_count": 1,
   "metadata": {},
   "outputs": [
    {
     "name": "stdout",
     "output_type": "stream",
     "text": [
      "Lasso-reduced, scaled datasets loaded successfully.\n"
     ]
    }
   ],
   "source": [
    "# Credit Risk Audit Tool - Modeling Phase\n",
    "# Dataset: Prosper Loan Data\n",
    "\n",
    "import sys\n",
    "import os\n",
    "\n",
    "# Add the project root to the Python path\n",
    "sys.path.append(os.path.abspath('..'))\n",
    "\n",
    "import pandas as pd\n",
    "import numpy as np\n",
    "from audit_tool import modeling as mdl\n",
    "from sklearn.model_selection import train_test_split\n",
    "from sklearn.metrics import classification_report, roc_auc_score\n",
    "\n",
    "pd.set_option('display.max_columns', None)\n",
    "\n",
    "# Load Lasso-selected, scaled training and test sets\n",
    "X_train = pd.read_csv('../data/processed/prosperloan/X_train_lasso.csv')\n",
    "X_test = pd.read_csv('../data/processed/prosperloan/X_test_lasso.csv')\n",
    "y_train = pd.read_csv('../data/processed/prosperloan/y_train_lasso.csv').squeeze()\n",
    "y_test = pd.read_csv('../data/processed/prosperloan/y_test_lasso.csv').squeeze()\n",
    "\n",
    "print(\"Lasso-reduced, scaled datasets loaded successfully.\")\n"
   ]
  },
  {
   "cell_type": "markdown",
   "metadata": {},
   "source": [
    "## Logistic Regression\n",
    "The Logistic Regression model serves as a baseline. \n",
    "Its interpretability will also be useful in the explainability phase.\n"
   ]
  },
  {
   "cell_type": "code",
   "execution_count": 6,
   "metadata": {},
   "outputs": [
    {
     "name": "stdout",
     "output_type": "stream",
     "text": [
      "Logistic Regression - Classification Report:\n",
      "              precision    recall  f1-score   support\n",
      "\n",
      "           0      0.887     0.969     0.927     19386\n",
      "           1      0.630     0.300     0.406      3402\n",
      "\n",
      "    accuracy                          0.869     22788\n",
      "   macro avg      0.759     0.634     0.666     22788\n",
      "weighted avg      0.849     0.869     0.849     22788\n",
      "\n",
      "AUC-ROC (test): 0.860\n"
     ]
    }
   ],
   "source": [
    "## Logistic Regression (baseline)\n",
    "# This model serves as a simple interpretable benchmark.\n",
    "# It will also be useful for explainability techniques (e.g., SHAP, LIME).\n",
    "\n",
    "from audit_tool import modeling as mdl\n",
    "\n",
    "# Train model\n",
    "log_model = mdl.train_logistic_regression(X_train, y_train)\n",
    "\n",
    "# Predict\n",
    "y_pred = log_model.predict(X_test)\n",
    "y_prob = log_model.predict_proba(X_test)[:, 1]\n",
    "\n",
    "# Evaluate\n",
    "from sklearn.metrics import classification_report, roc_auc_score\n",
    "\n",
    "print(\"Logistic Regression - Classification Report:\")\n",
    "print(classification_report(y_test, y_pred, digits=3))\n",
    "\n",
    "auc_lr = roc_auc_score(y_test, y_prob)\n",
    "print(f\"AUC-ROC (test): {auc_lr:.3f}\")\n"
   ]
  },
  {
   "cell_type": "markdown",
   "metadata": {},
   "source": [
    "### Test Report: customized threshold por evaluation metrics"
   ]
  },
  {
   "cell_type": "code",
   "execution_count": 7,
   "metadata": {},
   "outputs": [
    {
     "name": "stdout",
     "output_type": "stream",
     "text": [
      "Custom threshold set at: 0.3100\n",
      "Adjusted Classification Report:\n",
      "              precision    recall  f1-score   support\n",
      "\n",
      "           0      0.915     0.914     0.914     19386\n",
      "           1      0.511     0.514     0.512      3402\n",
      "\n",
      "    accuracy                          0.854     22788\n",
      "   macro avg      0.713     0.714     0.713     22788\n",
      "weighted avg      0.854     0.854     0.854     22788\n",
      "\n"
     ]
    },
    {
     "data": {
      "image/png": "[encoded data removed]",
      "text/plain": [
       "<Figure size 640x480 with 2 Axes>"
      ]
     },
     "metadata": {},
     "output_type": "display_data"
    },
    {
     "name": "stdout",
     "output_type": "stream",
     "text": [
      "Logistic Regression model saved.\n"
     ]
    }
   ],
   "source": [
    "y_prob = log_model.predict_proba(X_test)[:, 1]\n",
    "\n",
    "threshold = np.quantile(y_prob, 0.85)\n",
    "\n",
    "y_pred_adjusted = (y_prob >= threshold).astype(int)\n",
    "\n",
    "# Evaluate with new threshold\n",
    "from sklearn.metrics import classification_report, confusion_matrix\n",
    "\n",
    "print(f\"Custom threshold set at: {threshold:.4f}\")\n",
    "print(\"Adjusted Classification Report:\")\n",
    "print(classification_report(y_test, y_pred_adjusted, digits=3))\n",
    "\n",
    "# Confusion matrix\n",
    "import seaborn as sns\n",
    "import matplotlib.pyplot as plt\n",
    "\n",
    "cm = confusion_matrix(y_test, y_pred_adjusted)\n",
    "sns.heatmap(cm, annot=True, fmt='d', cmap='Blues')\n",
    "plt.title(\"Confusion Matrix (Adjusted Threshold)\")\n",
    "plt.xlabel(\"Predicted Label\")\n",
    "plt.ylabel(\"True Label\")\n",
    "plt.show()\n",
    "\n",
    "# Save model\n",
    "mdl.save_model(log_model, '../models/prosperloan/logistic_regression.pkl')\n",
    "print(\"Logistic Regression model saved.\")"
   ]
  },
  {
   "cell_type": "markdown",
   "metadata": {},
   "source": [
    "### Train Report: customized threshold por evaluation metrics"
   ]
  },
  {
   "cell_type": "code",
   "execution_count": 10,
   "metadata": {},
   "outputs": [
    {
     "name": "stdout",
     "output_type": "stream",
     "text": [
      "Custom threshold (LogReg, train set, top 15% risky): 0.3204\n",
      "Train classification report (adjusted threshold):\n",
      "              precision    recall  f1-score   support\n",
      "\n",
      "           0      0.912     0.911     0.912     77541\n",
      "           1      0.497     0.499     0.498     13608\n",
      "\n",
      "    accuracy                          0.850     91149\n",
      "   macro avg      0.704     0.705     0.705     91149\n",
      "weighted avg      0.850     0.850     0.850     91149\n",
      "\n"
     ]
    },
    {
     "data": {
      "image/png": "[encoded data removed]",
      "text/plain": [
       "<Figure size 640x480 with 2 Axes>"
      ]
     },
     "metadata": {},
     "output_type": "display_data"
    }
   ],
   "source": [
    "# Get default probabilities on training data\n",
    "y_prob_train = log_model.predict_proba(X_train)[:, 1]\n",
    "\n",
    "# Set threshold at 85th percentile (top 15% most risky)\n",
    "threshold_train = np.quantile(y_prob_train, 0.85)\n",
    "\n",
    "# Apply custom threshold\n",
    "y_pred_train_adjusted = (y_prob_train >= threshold_train).astype(int)\n",
    "\n",
    "# Evaluation\n",
    "from sklearn.metrics import classification_report, confusion_matrix\n",
    "print(f\"Custom threshold (LogReg, train set, top 15% risky): {threshold_train:.4f}\")\n",
    "print(\"Train classification report (adjusted threshold):\")\n",
    "print(classification_report(y_train, y_pred_train_adjusted, digits=3))\n",
    "\n",
    "# Confusion matrix\n",
    "import seaborn as sns\n",
    "import matplotlib.pyplot as plt\n",
    "\n",
    "cm_train = confusion_matrix(y_train, y_pred_train_adjusted)\n",
    "sns.heatmap(cm_train, annot=True, fmt='d', cmap='Blues')\n",
    "plt.title(\"Confusion Matrix (Train, Adjusted Threshold)\")\n",
    "plt.xlabel(\"Predicted Label\")\n",
    "plt.ylabel(\"True Label\")\n",
    "plt.show()"
   ]
  },
  {
   "cell_type": "markdown",
   "metadata": {},
   "source": [
    "## Random Forest\n",
    "The Random Forest model allows us to capture non-linear relationships\n",
    "and will provide feature importance for explainability.\n"
   ]
  },
  {
   "cell_type": "code",
   "execution_count": 12,
   "metadata": {},
   "outputs": [
    {
     "name": "stdout",
     "output_type": "stream",
     "text": [
      "Fitting 3 folds for each of 9 candidates, totalling 27 fits\n"
     ]
    },
    {
     "name": "stdout",
     "output_type": "stream",
     "text": [
      "Best Random Forest params: {'class_weight': 'balanced', 'max_depth': None, 'n_estimators': 300}\n",
      "Random Forest Report (threshold 0.5):\n",
      "               precision    recall  f1-score   support\n",
      "\n",
      "           0       0.88      0.98      0.93     19386\n",
      "           1       0.70      0.22      0.34      3402\n",
      "\n",
      "    accuracy                           0.87     22788\n",
      "   macro avg       0.79      0.60      0.63     22788\n",
      "weighted avg       0.85      0.87      0.84     22788\n",
      "\n",
      "AUC: 0.8751057903868638\n"
     ]
    }
   ],
   "source": [
    "# Tuning Random Forest (con búsqueda de hiperparámetros y class_weight='balanced')\n",
    "rf_model = mdl.tune_random_forest(X_train, y_train)\n",
    "\n",
    "# Evaluación básica (umbral 0.5)\n",
    "report_rf, auc_rf = mdl.evaluate_model(rf_model, X_test, y_test)\n",
    "print(\"Random Forest Report (threshold 0.5):\\n\", report_rf)\n",
    "print(\"AUC:\", auc_rf)"
   ]
  },
  {
   "cell_type": "markdown",
   "metadata": {},
   "source": [
    "### Test Report: customized threshold por evaluation metrics"
   ]
  },
  {
   "cell_type": "code",
   "execution_count": 17,
   "metadata": {},
   "outputs": [
    {
     "name": "stdout",
     "output_type": "stream",
     "text": [
      "Custom threshold (RF, top 15% risky): 0.3067\n",
      "              precision    recall  f1-score   support\n",
      "\n",
      "           0      0.916     0.915     0.916     19386\n",
      "           1      0.520     0.524     0.522      3402\n",
      "\n",
      "    accuracy                          0.857     22788\n",
      "   macro avg      0.718     0.719     0.719     22788\n",
      "weighted avg      0.857     0.857     0.857     22788\n",
      "\n"
     ]
    }
   ],
   "source": [
    "y_prob_rf = rf_model.predict_proba(X_test)[:, 1]\n",
    "\n",
    "# Percentil 90 => top 15%\n",
    "threshold_rf = np.quantile(y_prob_rf, 0.85)\n",
    "y_pred_rf_adjusted = (y_prob_rf >= threshold_rf).astype(int)\n",
    "\n",
    "from sklearn.metrics import classification_report\n",
    "print(f\"Custom threshold (RF, top 15% risky): {threshold_rf:.4f}\")\n",
    "print(classification_report(y_test, y_pred_rf_adjusted, digits=3))"
   ]
  },
  {
   "cell_type": "code",
   "execution_count": 14,
   "metadata": {},
   "outputs": [],
   "source": [
    "# Guardar modelo ajustado\n",
    "mdl.save_model(rf_model, '../models/prosperloan/random_forest_tuned.pkl')"
   ]
  },
  {
   "cell_type": "markdown",
   "metadata": {},
   "source": [
    "### Train Report: customized threshold por evaluation metrics"
   ]
  },
  {
   "cell_type": "code",
   "execution_count": 15,
   "metadata": {},
   "outputs": [
    {
     "name": "stdout",
     "output_type": "stream",
     "text": [
      "Custom threshold (RF, train set, top 15% risky): 0.2933\n",
      "Train classification report (adjusted threshold):\n",
      "              precision    recall  f1-score   support\n",
      "\n",
      "           0      1.000     0.999     1.000     77541\n",
      "           1      0.995     1.000     0.998     13608\n",
      "\n",
      "    accuracy                          0.999     91149\n",
      "   macro avg      0.998     1.000     0.999     91149\n",
      "weighted avg      0.999     0.999     0.999     91149\n",
      "\n"
     ]
    },
    {
     "data": {
      "image/png": "[encoded data removed]",
      "text/plain": [
       "<Figure size 640x480 with 2 Axes>"
      ]
     },
     "metadata": {},
     "output_type": "display_data"
    }
   ],
   "source": [
    "# Get default probabilities on training set\n",
    "y_prob_rf_train = rf_model.predict_proba(X_train)[:, 1]\n",
    "\n",
    "# Set threshold at 85th percentile (top 15% most risky)\n",
    "threshold_rf_train = np.quantile(y_prob_rf_train, 0.85)\n",
    "\n",
    "# Apply threshold\n",
    "y_pred_rf_train_adjusted = (y_prob_rf_train >= threshold_rf_train).astype(int)\n",
    "\n",
    "# Evaluation\n",
    "from sklearn.metrics import classification_report, confusion_matrix\n",
    "\n",
    "print(f\"Custom threshold (RF, train set, top 15% risky): {threshold_rf_train:.4f}\")\n",
    "print(\"Train classification report (adjusted threshold):\")\n",
    "print(classification_report(y_train, y_pred_rf_train_adjusted, digits=3))\n",
    "\n",
    "# Confusion matrix\n",
    "import seaborn as sns\n",
    "import matplotlib.pyplot as plt\n",
    "\n",
    "cm_rf_train = confusion_matrix(y_train, y_pred_rf_train_adjusted)\n",
    "sns.heatmap(cm_rf_train, annot=True, fmt='d', cmap='Blues')\n",
    "plt.title(\"Confusion Matrix (Train RF, Adjusted Threshold)\")\n",
    "plt.xlabel(\"Predicted Label\")\n",
    "plt.ylabel(\"True Label\")\n",
    "plt.show()"
   ]
  },
  {
   "cell_type": "markdown",
   "metadata": {},
   "source": [
    "## XGBoost\n",
    "XGBoost is often used in financial prediction problems due to its\n",
    "high performance and flexibility.\n"
   ]
  },
  {
   "cell_type": "code",
   "execution_count": 2,
   "metadata": {},
   "outputs": [
    {
     "name": "stderr",
     "output_type": "stream",
     "text": [
      "/home/celia/Desktop/tfm-credit-risk-audit/venv/lib/python3.10/site-packages/xgboost/sklearn.py:1395: UserWarning: `use_label_encoder` is deprecated in 1.7.0.\n",
      "  warnings.warn(\"`use_label_encoder` is deprecated in 1.7.0.\")\n"
     ]
    },
    {
     "name": "stdout",
     "output_type": "stream",
     "text": [
      "n_estimators=100, max_depth=3, AUC=0.8739\n"
     ]
    },
    {
     "name": "stderr",
     "output_type": "stream",
     "text": [
      "/home/celia/Desktop/tfm-credit-risk-audit/venv/lib/python3.10/site-packages/xgboost/sklearn.py:1395: UserWarning: `use_label_encoder` is deprecated in 1.7.0.\n",
      "  warnings.warn(\"`use_label_encoder` is deprecated in 1.7.0.\")\n"
     ]
    },
    {
     "name": "stdout",
     "output_type": "stream",
     "text": [
      "n_estimators=100, max_depth=5, AUC=0.8765\n"
     ]
    },
    {
     "name": "stderr",
     "output_type": "stream",
     "text": [
      "/home/celia/Desktop/tfm-credit-risk-audit/venv/lib/python3.10/site-packages/xgboost/sklearn.py:1395: UserWarning: `use_label_encoder` is deprecated in 1.7.0.\n",
      "  warnings.warn(\"`use_label_encoder` is deprecated in 1.7.0.\")\n"
     ]
    },
    {
     "name": "stdout",
     "output_type": "stream",
     "text": [
      "n_estimators=100, max_depth=7, AUC=0.8759\n"
     ]
    },
    {
     "name": "stderr",
     "output_type": "stream",
     "text": [
      "/home/celia/Desktop/tfm-credit-risk-audit/venv/lib/python3.10/site-packages/xgboost/sklearn.py:1395: UserWarning: `use_label_encoder` is deprecated in 1.7.0.\n",
      "  warnings.warn(\"`use_label_encoder` is deprecated in 1.7.0.\")\n"
     ]
    },
    {
     "name": "stdout",
     "output_type": "stream",
     "text": [
      "n_estimators=200, max_depth=3, AUC=0.8764\n"
     ]
    },
    {
     "name": "stderr",
     "output_type": "stream",
     "text": [
      "/home/celia/Desktop/tfm-credit-risk-audit/venv/lib/python3.10/site-packages/xgboost/sklearn.py:1395: UserWarning: `use_label_encoder` is deprecated in 1.7.0.\n",
      "  warnings.warn(\"`use_label_encoder` is deprecated in 1.7.0.\")\n"
     ]
    },
    {
     "name": "stdout",
     "output_type": "stream",
     "text": [
      "n_estimators=200, max_depth=5, AUC=0.8765\n"
     ]
    },
    {
     "name": "stderr",
     "output_type": "stream",
     "text": [
      "/home/celia/Desktop/tfm-credit-risk-audit/venv/lib/python3.10/site-packages/xgboost/sklearn.py:1395: UserWarning: `use_label_encoder` is deprecated in 1.7.0.\n",
      "  warnings.warn(\"`use_label_encoder` is deprecated in 1.7.0.\")\n"
     ]
    },
    {
     "name": "stdout",
     "output_type": "stream",
     "text": [
      "n_estimators=200, max_depth=7, AUC=0.8754\n"
     ]
    },
    {
     "name": "stderr",
     "output_type": "stream",
     "text": [
      "/home/celia/Desktop/tfm-credit-risk-audit/venv/lib/python3.10/site-packages/xgboost/sklearn.py:1395: UserWarning: `use_label_encoder` is deprecated in 1.7.0.\n",
      "  warnings.warn(\"`use_label_encoder` is deprecated in 1.7.0.\")\n"
     ]
    },
    {
     "name": "stdout",
     "output_type": "stream",
     "text": [
      "n_estimators=300, max_depth=3, AUC=0.8773\n"
     ]
    },
    {
     "name": "stderr",
     "output_type": "stream",
     "text": [
      "/home/celia/Desktop/tfm-credit-risk-audit/venv/lib/python3.10/site-packages/xgboost/sklearn.py:1395: UserWarning: `use_label_encoder` is deprecated in 1.7.0.\n",
      "  warnings.warn(\"`use_label_encoder` is deprecated in 1.7.0.\")\n"
     ]
    },
    {
     "name": "stdout",
     "output_type": "stream",
     "text": [
      "n_estimators=300, max_depth=5, AUC=0.8757\n"
     ]
    },
    {
     "name": "stderr",
     "output_type": "stream",
     "text": [
      "/home/celia/Desktop/tfm-credit-risk-audit/venv/lib/python3.10/site-packages/xgboost/sklearn.py:1395: UserWarning: `use_label_encoder` is deprecated in 1.7.0.\n",
      "  warnings.warn(\"`use_label_encoder` is deprecated in 1.7.0.\")\n"
     ]
    },
    {
     "name": "stdout",
     "output_type": "stream",
     "text": [
      "n_estimators=300, max_depth=7, AUC=0.8744\n",
      "\n",
      "Best XGBoost AUC: 0.8773 with params: {'n_estimators': 300, 'max_depth': 3}\n",
      "XGBoost Report (threshold 0.5):\n",
      "               precision    recall  f1-score   support\n",
      "\n",
      "           0       0.89      0.97      0.93     19386\n",
      "           1       0.67      0.31      0.43      3402\n",
      "\n",
      "    accuracy                           0.87     22788\n",
      "   macro avg       0.78      0.64      0.68     22788\n",
      "weighted avg       0.86      0.87      0.85     22788\n",
      "\n",
      "AUC: 0.8803462052198253\n"
     ]
    }
   ],
   "source": [
    "from sklearn.model_selection import train_test_split\n",
    "\n",
    "# Split train into train + validation (e.g. 80% train, 20% val)\n",
    "X_train_sub, X_val, y_train_sub, y_val = train_test_split(\n",
    "    X_train, y_train, test_size=0.2, random_state=42, stratify=y_train\n",
    ")\n",
    "\n",
    "# Run manual tuning\n",
    "xgb_model = mdl.tune_xgboost(X_train_sub, y_train_sub, X_val, y_val)\n",
    "\n",
    "report_xgb, auc_xgb = mdl.evaluate_model(xgb_model, X_test, y_test)\n",
    "print(\"XGBoost Report (threshold 0.5):\\n\", report_xgb)\n",
    "print(\"AUC:\", auc_xgb)"
   ]
  },
  {
   "cell_type": "markdown",
   "metadata": {},
   "source": [
    "### Test Report: customized threshold por evaluation metrics"
   ]
  },
  {
   "cell_type": "code",
   "execution_count": 4,
   "metadata": {},
   "outputs": [
    {
     "name": "stdout",
     "output_type": "stream",
     "text": [
      "Custom threshold (XGB, top 10% risky): 0.3319\n",
      "              precision    recall  f1-score   support\n",
      "\n",
      "           0      0.919     0.918     0.918     19386\n",
      "           1      0.534     0.537     0.535      3402\n",
      "\n",
      "    accuracy                          0.861     22788\n",
      "   macro avg      0.726     0.727     0.727     22788\n",
      "weighted avg      0.861     0.861     0.861     22788\n",
      "\n"
     ]
    }
   ],
   "source": [
    "y_prob_xgb = xgb_model.predict_proba(X_test)[:, 1]\n",
    "threshold_xgb = np.quantile(y_prob_xgb, 0.85)\n",
    "y_pred_xgb_adjusted = (y_prob_xgb >= threshold_xgb).astype(int)\n",
    "\n",
    "\n",
    "from sklearn.metrics import classification_report\n",
    "print(f\"Custom threshold (XGB, top 15% risky): {threshold_xgb:.4f}\")\n",
    "print(classification_report(y_test, y_pred_xgb_adjusted, digits=3))\n",
    "\n",
    "# Guardar modelo\n",
    "mdl.save_model(xgb_model, '../models/prosperloan/xgboost_tuned.pkl')"
   ]
  },
  {
   "cell_type": "markdown",
   "metadata": {},
   "source": [
    "### Train Report: customized threshold por evaluation metrics"
   ]
  },
  {
   "cell_type": "code",
   "execution_count": 8,
   "metadata": {},
   "outputs": [
    {
     "name": "stdout",
     "output_type": "stream",
     "text": [
      "Train Report (XGBoost):\n",
      "               precision    recall  f1-score   support\n",
      "\n",
      "           0       0.89      0.97      0.93     77541\n",
      "           1       0.69      0.33      0.45     13608\n",
      "\n",
      "    accuracy                           0.88     91149\n",
      "   macro avg       0.79      0.65      0.69     91149\n",
      "weighted avg       0.86      0.88      0.86     91149\n",
      "\n",
      "Train AUC: 0.886481869719322\n"
     ]
    }
   ],
   "source": [
    "# Evaluación sobre el conjunto de entrenamiento\n",
    "report_train, auc_train = mdl.evaluate_model(xgb_model, X_train, y_train)\n",
    "print(\"Train Report (XGBoost):\\n\", report_train)\n",
    "print(\"Train AUC:\", auc_train)"
   ]
  },
  {
   "cell_type": "code",
   "execution_count": 16,
   "metadata": {},
   "outputs": [
    {
     "name": "stdout",
     "output_type": "stream",
     "text": [
      "Custom threshold (XGB train, top 15% risky): 0.3380\n",
      "Train classification report (adjusted threshold):\n",
      "              precision    recall  f1-score   support\n",
      "\n",
      "           0      0.921     0.920     0.920     77541\n",
      "           1      0.545     0.548     0.547     13608\n",
      "\n",
      "    accuracy                          0.864     91149\n",
      "   macro avg      0.733     0.734     0.733     91149\n",
      "weighted avg      0.865     0.864     0.864     91149\n",
      "\n"
     ]
    }
   ],
   "source": [
    "y_prob_train = xgb_model.predict_proba(X_train)[:, 1]\n",
    "\n",
    "threshold_train = np.quantile(y_prob_train, 0.85)\n",
    "y_pred_train_adjusted = (y_prob_train >= threshold_train).astype(int)\n",
    "\n",
    "print(f\"Custom threshold (XGB train, top 15% risky): {threshold_train:.4f}\")\n",
    "print(\"Train classification report (adjusted threshold):\")\n",
    "print(classification_report(y_train, y_pred_train_adjusted, digits=3))"
   ]
  },
  {
   "cell_type": "markdown",
   "metadata": {},
   "source": [
    "All models have been trained and evaluated.\n",
    "Saved models will be used in the upcoming explainability and robustness audit phases.\n"
   ]
  }
 ],
 "metadata": {
  "kernelspec": {
   "display_name": "venv",
   "language": "python",
   "name": "python3"
  },
  "language_info": {
   "codemirror_mode": {
    "name": "ipython",
    "version": 3
   },
   "file_extension": ".py",
   "mimetype": "text/x-python",
   "name": "python",
   "nbconvert_exporter": "python",
   "pygments_lexer": "ipython3",
   "version": "3.10.12"
  }
 },
 "nbformat": 4,
 "nbformat_minor": 2
}
